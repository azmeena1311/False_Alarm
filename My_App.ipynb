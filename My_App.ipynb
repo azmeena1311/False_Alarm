{
 "cells": [
  {
   "cell_type": "markdown",
   "metadata": {},
   "source": [
    "Projet Architecture\n",
    "\n",
    "Model(Storage)-DB,File system\n",
    "View-HTML etc...for timing postman\n",
    "controller-Python(Flask,Ds)\n",
    "\n",
    "Flask - for frontend integration\n",
    "jsonify - used to pass data from front end,convert dictionary into json\n",
    "request-  to pass get and post methods ,If e dont pass request you will be able to acces only get tpe of requests anf not post and other requests"
   ]
  },
  {
   "cell_type": "code",
   "execution_count": 1,
   "metadata": {},
   "outputs": [],
   "source": [
    "from flask import Flask,jsonify,request\n"
   ]
  },
  {
   "cell_type": "code",
   "execution_count": 2,
   "metadata": {},
   "outputs": [],
   "source": [
    "app = Flask(__name__)"
   ]
  },
  {
   "cell_type": "code",
   "execution_count": 3,
   "metadata": {},
   "outputs": [
    {
     "data": {
      "text/plain": [
       "flask.app.Flask"
      ]
     },
     "execution_count": 3,
     "metadata": {},
     "output_type": "execute_result"
    },
    {
     "data": {
      "text/plain": [
       "flask.app.Flask"
      ]
     },
     "execution_count": 3,
     "metadata": {},
     "output_type": "execute_result"
    }
   ],
   "source": [
    "type(app)"
   ]
  },
  {
   "cell_type": "code",
   "execution_count": 4,
   "metadata": {},
   "outputs": [
    {
     "name": "stdout",
     "output_type": "stream",
     "text": [
      "__main__\n",
      "__main__\n"
     ]
    }
   ],
   "source": [
    "print(__name__)"
   ]
  },
  {
   "cell_type": "code",
   "execution_count": 6,
   "metadata": {},
   "outputs": [],
   "source": [
    "#iimport all the required libraries in this section\n",
    "#we have all the data science libaries in sklearn\n",
    "import pandas as pd\n",
    "from sklearn.naive_bayes import GaussianNB\n",
    "from sklearn.externals import joblib\n",
    "#this allows to create external file where we will all keep training data\n",
    "import numpy as np"
   ]
  },
  {
   "cell_type": "markdown",
   "metadata": {},
   "source": [
    "function name and endpont can be same name or different name"
   ]
  },
  {
   "cell_type": "code",
   "execution_count": 7,
   "metadata": {},
   "outputs": [],
   "source": [
    "@app.route('/train_my_model')\n",
    "def train():\n",
    "    #load the data file\n",
    "    data = pd.read_excel('C:\\\\Users\\\\admin\\\\Desktop\\\\Az\\\\projectdocument\\\\False Alarm Cases.xlsx')\n",
    "    #remove the columns hich e don't need\n",
    "    df = data.iloc[:,1:8]\n",
    "    #split the data in x and y axis variables\n",
    "    x= df.iloc[:,0:6]\n",
    "    y = df[\"Spuriosity Index(0/1)\"]\n",
    "    #create object of GaussianNB\n",
    "    nb = GaussianNB()\n",
    "    #train the model\n",
    "    nb.fit(x,y)\n",
    "    joblib.dump(nb,'train_data.pkl')\n",
    "    \n",
    "    return 'Model trained successfully...'\n",
    "\n",
    "#N0te :if u hv deleted in pkl file than oly run again this train method"
   ]
  },
  {
   "cell_type": "code",
   "execution_count": 8,
   "metadata": {},
   "outputs": [],
   "source": [
    "@app.route('/test_my_model',methods =['POST'])\n",
    "def test():\n",
    "    train_data_file = joblib.load('train_data.pkl')\n",
    "    test_data= request.get_json()\n",
    "    at = test_data[\"Ambient Temperature\"]\n",
    "    ca = test_data[\"Calibration\"]\n",
    "    un = test_data[\"Unwanted substance deposition\"]\n",
    "    h = test_data[\"Humidity\"]\n",
    "    h2s = test_data[\"Content\"]\n",
    "    dt = test_data[\"detected by\"]\n",
    "    #the data we get is in the form of array #we need to convert list into array by using np.array\n",
    "    array_test = np.array([at,ca,un,h,h2s,dt])\n",
    "    #this we need to convert into dataframe - shape of exisiting is 6 rows with 1column because this is a array..\n",
    "    #so we need to reshape it,because we need to pass to column\n",
    "    tarray= array_test.reshape(1,6)#1 ro 6 columns\n",
    "    df_test = pd.DataFrame(tarray,columns = ['Ambient Temperature( deg C)', 'Calibration(days)',\n",
    "       'Unwanted substance deposition(0/1)', 'Humidity(%)', 'H2S Content(ppm)',\n",
    "       'detected by(% of sensors)'])\n",
    "    y_pred = train_data_file.predict(df_test)\n",
    "    \n",
    "    if y_pred == 0:\n",
    "        return 'True Alarm...This is dangerous'\n",
    "    else:\n",
    "        return 'This is false Alarm..No need to panic'"
   ]
  },
  {
   "cell_type": "code",
   "execution_count": null,
   "metadata": {},
   "outputs": [
    {
     "name": "stdout",
     "output_type": "stream",
     "text": [
      " * Serving Flask app \"__main__\" (lazy loading)\n",
      " * Serving Flask app \"__main__\" (lazy loading)\n",
      " * Environment: production\n",
      " * Environment: production\n",
      "   WARNING: Do not use the development server in a production environment.\n",
      "   WARNING: Do not use the development server in a production environment.\n",
      "   Use a production WSGI server instead.\n",
      "   Use a production WSGI server instead.\n",
      " * Debug mode: off\n",
      " * Debug mode: off\n"
     ]
    },
    {
     "name": "stderr",
     "output_type": "stream",
     "text": [
      " * Running on http://127.0.0.1:2000/ (Press CTRL+C to quit)\n",
      " * Running on http://127.0.0.1:2000/ (Press CTRL+C to quit)\n",
      "127.0.0.1 - - [13/Apr/2020 18:52:46] \"GET / HTTP/1.1\" 404 -\n",
      "127.0.0.1 - - [13/Apr/2020 18:52:46] \"GET / HTTP/1.1\" 404 -\n",
      "127.0.0.1 - - [13/Apr/2020 18:55:05] \"GET /train_my_model HTTP/1.1\" 200 -\n",
      "127.0.0.1 - - [13/Apr/2020 18:55:05] \"GET /train_my_model HTTP/1.1\" 200 -\n",
      "[2020-04-13 18:55:16,568] ERROR in app: Exception on /test_my_model [POST]\n",
      "Traceback (most recent call last):\n",
      "  File \"C:\\Users\\admin\\AppData\\Local\\Continuum\\anaconda3\\lib\\site-packages\\flask\\app.py\", line 2292, in wsgi_app\n",
      "    response = self.full_dispatch_request()\n",
      "  File \"C:\\Users\\admin\\AppData\\Local\\Continuum\\anaconda3\\lib\\site-packages\\flask\\app.py\", line 1815, in full_dispatch_request\n",
      "    rv = self.handle_user_exception(e)\n",
      "  File \"C:\\Users\\admin\\AppData\\Local\\Continuum\\anaconda3\\lib\\site-packages\\flask\\app.py\", line 1718, in handle_user_exception\n",
      "    reraise(exc_type, exc_value, tb)\n",
      "  File \"C:\\Users\\admin\\AppData\\Local\\Continuum\\anaconda3\\lib\\site-packages\\flask\\_compat.py\", line 35, in reraise\n",
      "    raise value\n",
      "  File \"C:\\Users\\admin\\AppData\\Local\\Continuum\\anaconda3\\lib\\site-packages\\flask\\app.py\", line 1813, in full_dispatch_request\n",
      "    rv = self.dispatch_request()\n",
      "  File \"C:\\Users\\admin\\AppData\\Local\\Continuum\\anaconda3\\lib\\site-packages\\flask\\app.py\", line 1799, in dispatch_request\n",
      "    return self.view_functions[rule.endpoint](**req.view_args)\n",
      "  File \"<ipython-input-8-e9af95f6649e>\", line 9, in test\n",
      "    h2s = test_data[\"Content\"]\n",
      "KeyError: 'Content'\n",
      "[2020-04-13 18:55:16,568] ERROR in app: Exception on /test_my_model [POST]\n",
      "Traceback (most recent call last):\n",
      "  File \"C:\\Users\\admin\\AppData\\Local\\Continuum\\anaconda3\\lib\\site-packages\\flask\\app.py\", line 2292, in wsgi_app\n",
      "    response = self.full_dispatch_request()\n",
      "  File \"C:\\Users\\admin\\AppData\\Local\\Continuum\\anaconda3\\lib\\site-packages\\flask\\app.py\", line 1815, in full_dispatch_request\n",
      "    rv = self.handle_user_exception(e)\n",
      "  File \"C:\\Users\\admin\\AppData\\Local\\Continuum\\anaconda3\\lib\\site-packages\\flask\\app.py\", line 1718, in handle_user_exception\n",
      "    reraise(exc_type, exc_value, tb)\n",
      "  File \"C:\\Users\\admin\\AppData\\Local\\Continuum\\anaconda3\\lib\\site-packages\\flask\\_compat.py\", line 35, in reraise\n",
      "    raise value\n",
      "  File \"C:\\Users\\admin\\AppData\\Local\\Continuum\\anaconda3\\lib\\site-packages\\flask\\app.py\", line 1813, in full_dispatch_request\n",
      "    rv = self.dispatch_request()\n",
      "  File \"C:\\Users\\admin\\AppData\\Local\\Continuum\\anaconda3\\lib\\site-packages\\flask\\app.py\", line 1799, in dispatch_request\n",
      "    return self.view_functions[rule.endpoint](**req.view_args)\n",
      "  File \"<ipython-input-8-e9af95f6649e>\", line 9, in test\n",
      "    h2s = test_data[\"Content\"]\n",
      "KeyError: 'Content'\n",
      "127.0.0.1 - - [13/Apr/2020 18:55:17] \"POST /test_my_model HTTP/1.1\" 500 -\n",
      "127.0.0.1 - - [13/Apr/2020 18:55:17] \"POST /test_my_model HTTP/1.1\" 500 -\n"
     ]
    }
   ],
   "source": [
    "app.run(port=2000)"
   ]
  },
  {
   "cell_type": "code",
   "execution_count": null,
   "metadata": {},
   "outputs": [],
   "source": []
  }
 ],
 "metadata": {
  "kernelspec": {
   "display_name": "Python 3",
   "language": "python",
   "name": "python3"
  },
  "language_info": {
   "codemirror_mode": {
    "name": "ipython",
    "version": 3
   },
   "file_extension": ".py",
   "mimetype": "text/x-python",
   "name": "python",
   "nbconvert_exporter": "python",
   "pygments_lexer": "ipython3",
   "version": "3.7.3"
  }
 },
 "nbformat": 4,
 "nbformat_minor": 2
}
