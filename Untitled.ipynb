{
 "cells": [
  {
   "cell_type": "code",
   "execution_count": 1,
   "metadata": {},
   "outputs": [
    {
     "data": {
      "text/html": [
       "<div>\n",
       "<style scoped>\n",
       "    .dataframe tbody tr th:only-of-type {\n",
       "        vertical-align: middle;\n",
       "    }\n",
       "\n",
       "    .dataframe tbody tr th {\n",
       "        vertical-align: top;\n",
       "    }\n",
       "\n",
       "    .dataframe thead th {\n",
       "        text-align: right;\n",
       "    }\n",
       "</style>\n",
       "<table border=\"1\" class=\"dataframe\">\n",
       "  <thead>\n",
       "    <tr style=\"text-align: right;\">\n",
       "      <th></th>\n",
       "      <th>Case No.</th>\n",
       "      <th>Ambient Temperature( deg C)</th>\n",
       "      <th>Calibration(days)</th>\n",
       "      <th>Unwanted substance deposition(0/1)</th>\n",
       "      <th>Humidity(%)</th>\n",
       "      <th>H2S Content(ppm)</th>\n",
       "      <th>detected by(% of sensors)</th>\n",
       "      <th>Spuriosity Index(0/1)</th>\n",
       "      <th>Unnamed: 8</th>\n",
       "      <th>Unnamed: 9</th>\n",
       "      <th>Unnamed: 10</th>\n",
       "    </tr>\n",
       "  </thead>\n",
       "  <tbody>\n",
       "    <tr>\n",
       "      <th>0</th>\n",
       "      <td>Case # 1</td>\n",
       "      <td>-2</td>\n",
       "      <td>226</td>\n",
       "      <td>1</td>\n",
       "      <td>96</td>\n",
       "      <td>9</td>\n",
       "      <td>21</td>\n",
       "      <td>1</td>\n",
       "      <td>NaN</td>\n",
       "      <td>NaN</td>\n",
       "      <td>NaN</td>\n",
       "    </tr>\n",
       "    <tr>\n",
       "      <th>1</th>\n",
       "      <td>Case # 2</td>\n",
       "      <td>4</td>\n",
       "      <td>134</td>\n",
       "      <td>1</td>\n",
       "      <td>83</td>\n",
       "      <td>4</td>\n",
       "      <td>77</td>\n",
       "      <td>0</td>\n",
       "      <td>NaN</td>\n",
       "      <td>NaN</td>\n",
       "      <td>NaN</td>\n",
       "    </tr>\n",
       "    <tr>\n",
       "      <th>2</th>\n",
       "      <td>Case # 3</td>\n",
       "      <td>7</td>\n",
       "      <td>163</td>\n",
       "      <td>0</td>\n",
       "      <td>69</td>\n",
       "      <td>2</td>\n",
       "      <td>81</td>\n",
       "      <td>0</td>\n",
       "      <td>NaN</td>\n",
       "      <td>NaN</td>\n",
       "      <td>NaN</td>\n",
       "    </tr>\n",
       "    <tr>\n",
       "      <th>3</th>\n",
       "      <td>Case # 4</td>\n",
       "      <td>5</td>\n",
       "      <td>162</td>\n",
       "      <td>0</td>\n",
       "      <td>80</td>\n",
       "      <td>6</td>\n",
       "      <td>69</td>\n",
       "      <td>0</td>\n",
       "      <td>NaN</td>\n",
       "      <td>NaN</td>\n",
       "      <td>NaN</td>\n",
       "    </tr>\n",
       "    <tr>\n",
       "      <th>4</th>\n",
       "      <td>Case # 5</td>\n",
       "      <td>2</td>\n",
       "      <td>192</td>\n",
       "      <td>1</td>\n",
       "      <td>87</td>\n",
       "      <td>3</td>\n",
       "      <td>67</td>\n",
       "      <td>0</td>\n",
       "      <td>NaN</td>\n",
       "      <td>NaN</td>\n",
       "      <td>NaN</td>\n",
       "    </tr>\n",
       "  </tbody>\n",
       "</table>\n",
       "</div>"
      ],
      "text/plain": [
       "   Case No.  Ambient Temperature( deg C)  Calibration(days)  \\\n",
       "0  Case # 1                           -2                226   \n",
       "1  Case # 2                            4                134   \n",
       "2  Case # 3                            7                163   \n",
       "3  Case # 4                            5                162   \n",
       "4  Case # 5                            2                192   \n",
       "\n",
       "   Unwanted substance deposition(0/1)  Humidity(%)  H2S Content(ppm)  \\\n",
       "0                                   1           96                 9   \n",
       "1                                   1           83                 4   \n",
       "2                                   0           69                 2   \n",
       "3                                   0           80                 6   \n",
       "4                                   1           87                 3   \n",
       "\n",
       "   detected by(% of sensors)  Spuriosity Index(0/1)  Unnamed: 8  Unnamed: 9  \\\n",
       "0                         21                      1         NaN         NaN   \n",
       "1                         77                      0         NaN         NaN   \n",
       "2                         81                      0         NaN         NaN   \n",
       "3                         69                      0         NaN         NaN   \n",
       "4                         67                      0         NaN         NaN   \n",
       "\n",
       "   Unnamed: 10  \n",
       "0          NaN  \n",
       "1          NaN  \n",
       "2          NaN  \n",
       "3          NaN  \n",
       "4          NaN  "
      ]
     },
     "execution_count": 1,
     "metadata": {},
     "output_type": "execute_result"
    }
   ],
   "source": [
    "import pandas as pd\n",
    "\n",
    "data = pd.read_excel('C:\\\\Users\\\\admin\\\\Desktop\\\\Az\\\\projectdocument\\\\False Alarm Cases.xlsx')\n",
    "data.head()"
   ]
  },
  {
   "cell_type": "code",
   "execution_count": 2,
   "metadata": {},
   "outputs": [
    {
     "data": {
      "text/plain": [
       "pandas.core.frame.DataFrame"
      ]
     },
     "execution_count": 2,
     "metadata": {},
     "output_type": "execute_result"
    }
   ],
   "source": [
    "type(data)"
   ]
  },
  {
   "cell_type": "code",
   "execution_count": 3,
   "metadata": {},
   "outputs": [
    {
     "data": {
      "text/plain": [
       "Index(['Case No.', 'Ambient Temperature( deg C)', 'Calibration(days)',\n",
       "       'Unwanted substance deposition(0/1)', 'Humidity(%)', 'H2S Content(ppm)',\n",
       "       'detected by(% of sensors)', 'Spuriosity Index(0/1)', 'Unnamed: 8',\n",
       "       'Unnamed: 9', 'Unnamed: 10'],\n",
       "      dtype='object')"
      ]
     },
     "execution_count": 3,
     "metadata": {},
     "output_type": "execute_result"
    }
   ],
   "source": [
    "data.columns"
   ]
  },
  {
   "cell_type": "code",
   "execution_count": 5,
   "metadata": {},
   "outputs": [
    {
     "name": "stdout",
     "output_type": "stream",
     "text": [
      "<class 'pandas.core.frame.DataFrame'>\n",
      "RangeIndex: 1892 entries, 0 to 1891\n",
      "Data columns (total 11 columns):\n",
      "Case No.                              1892 non-null object\n",
      "Ambient Temperature( deg C)           1892 non-null int64\n",
      "Calibration(days)                     1892 non-null int64\n",
      "Unwanted substance deposition(0/1)    1892 non-null int64\n",
      "Humidity(%)                           1892 non-null int64\n",
      "H2S Content(ppm)                      1892 non-null int64\n",
      "detected by(% of sensors)             1892 non-null int64\n",
      "Spuriosity Index(0/1)                 1892 non-null int64\n",
      "Unnamed: 8                            0 non-null float64\n",
      "Unnamed: 9                            0 non-null float64\n",
      "Unnamed: 10                           1 non-null float64\n",
      "dtypes: float64(3), int64(7), object(1)\n",
      "memory usage: 162.7+ KB\n"
     ]
    }
   ],
   "source": [
    "data.info()"
   ]
  },
  {
   "cell_type": "code",
   "execution_count": 6,
   "metadata": {},
   "outputs": [],
   "source": [
    "#iloc allows to get speciific columns\n",
    "#iloc[rows,columns]"
   ]
  },
  {
   "cell_type": "code",
   "execution_count": 7,
   "metadata": {},
   "outputs": [],
   "source": [
    "df = data.iloc[:,1:8]"
   ]
  },
  {
   "cell_type": "code",
   "execution_count": 8,
   "metadata": {},
   "outputs": [
    {
     "data": {
      "text/html": [
       "<div>\n",
       "<style scoped>\n",
       "    .dataframe tbody tr th:only-of-type {\n",
       "        vertical-align: middle;\n",
       "    }\n",
       "\n",
       "    .dataframe tbody tr th {\n",
       "        vertical-align: top;\n",
       "    }\n",
       "\n",
       "    .dataframe thead th {\n",
       "        text-align: right;\n",
       "    }\n",
       "</style>\n",
       "<table border=\"1\" class=\"dataframe\">\n",
       "  <thead>\n",
       "    <tr style=\"text-align: right;\">\n",
       "      <th></th>\n",
       "      <th>Ambient Temperature( deg C)</th>\n",
       "      <th>Calibration(days)</th>\n",
       "      <th>Unwanted substance deposition(0/1)</th>\n",
       "      <th>Humidity(%)</th>\n",
       "      <th>H2S Content(ppm)</th>\n",
       "      <th>detected by(% of sensors)</th>\n",
       "      <th>Spuriosity Index(0/1)</th>\n",
       "    </tr>\n",
       "  </thead>\n",
       "  <tbody>\n",
       "    <tr>\n",
       "      <th>0</th>\n",
       "      <td>-2</td>\n",
       "      <td>226</td>\n",
       "      <td>1</td>\n",
       "      <td>96</td>\n",
       "      <td>9</td>\n",
       "      <td>21</td>\n",
       "      <td>1</td>\n",
       "    </tr>\n",
       "    <tr>\n",
       "      <th>1</th>\n",
       "      <td>4</td>\n",
       "      <td>134</td>\n",
       "      <td>1</td>\n",
       "      <td>83</td>\n",
       "      <td>4</td>\n",
       "      <td>77</td>\n",
       "      <td>0</td>\n",
       "    </tr>\n",
       "    <tr>\n",
       "      <th>2</th>\n",
       "      <td>7</td>\n",
       "      <td>163</td>\n",
       "      <td>0</td>\n",
       "      <td>69</td>\n",
       "      <td>2</td>\n",
       "      <td>81</td>\n",
       "      <td>0</td>\n",
       "    </tr>\n",
       "    <tr>\n",
       "      <th>3</th>\n",
       "      <td>5</td>\n",
       "      <td>162</td>\n",
       "      <td>0</td>\n",
       "      <td>80</td>\n",
       "      <td>6</td>\n",
       "      <td>69</td>\n",
       "      <td>0</td>\n",
       "    </tr>\n",
       "    <tr>\n",
       "      <th>4</th>\n",
       "      <td>2</td>\n",
       "      <td>192</td>\n",
       "      <td>1</td>\n",
       "      <td>87</td>\n",
       "      <td>3</td>\n",
       "      <td>67</td>\n",
       "      <td>0</td>\n",
       "    </tr>\n",
       "  </tbody>\n",
       "</table>\n",
       "</div>"
      ],
      "text/plain": [
       "   Ambient Temperature( deg C)  Calibration(days)  \\\n",
       "0                           -2                226   \n",
       "1                            4                134   \n",
       "2                            7                163   \n",
       "3                            5                162   \n",
       "4                            2                192   \n",
       "\n",
       "   Unwanted substance deposition(0/1)  Humidity(%)  H2S Content(ppm)  \\\n",
       "0                                   1           96                 9   \n",
       "1                                   1           83                 4   \n",
       "2                                   0           69                 2   \n",
       "3                                   0           80                 6   \n",
       "4                                   1           87                 3   \n",
       "\n",
       "   detected by(% of sensors)  Spuriosity Index(0/1)  \n",
       "0                         21                      1  \n",
       "1                         77                      0  \n",
       "2                         81                      0  \n",
       "3                         69                      0  \n",
       "4                         67                      0  "
      ]
     },
     "execution_count": 8,
     "metadata": {},
     "output_type": "execute_result"
    }
   ],
   "source": [
    "df.head()"
   ]
  },
  {
   "cell_type": "code",
   "execution_count": 30,
   "metadata": {},
   "outputs": [],
   "source": [
    "x= df.iloc[:,0:6]"
   ]
  },
  {
   "cell_type": "code",
   "execution_count": 31,
   "metadata": {},
   "outputs": [
    {
     "data": {
      "text/html": [
       "<div>\n",
       "<style scoped>\n",
       "    .dataframe tbody tr th:only-of-type {\n",
       "        vertical-align: middle;\n",
       "    }\n",
       "\n",
       "    .dataframe tbody tr th {\n",
       "        vertical-align: top;\n",
       "    }\n",
       "\n",
       "    .dataframe thead th {\n",
       "        text-align: right;\n",
       "    }\n",
       "</style>\n",
       "<table border=\"1\" class=\"dataframe\">\n",
       "  <thead>\n",
       "    <tr style=\"text-align: right;\">\n",
       "      <th></th>\n",
       "      <th>Ambient Temperature( deg C)</th>\n",
       "      <th>Calibration(days)</th>\n",
       "      <th>Unwanted substance deposition(0/1)</th>\n",
       "      <th>Humidity(%)</th>\n",
       "      <th>H2S Content(ppm)</th>\n",
       "      <th>detected by(% of sensors)</th>\n",
       "    </tr>\n",
       "  </thead>\n",
       "  <tbody>\n",
       "    <tr>\n",
       "      <th>0</th>\n",
       "      <td>-2</td>\n",
       "      <td>226</td>\n",
       "      <td>1</td>\n",
       "      <td>96</td>\n",
       "      <td>9</td>\n",
       "      <td>21</td>\n",
       "    </tr>\n",
       "    <tr>\n",
       "      <th>1</th>\n",
       "      <td>4</td>\n",
       "      <td>134</td>\n",
       "      <td>1</td>\n",
       "      <td>83</td>\n",
       "      <td>4</td>\n",
       "      <td>77</td>\n",
       "    </tr>\n",
       "    <tr>\n",
       "      <th>2</th>\n",
       "      <td>7</td>\n",
       "      <td>163</td>\n",
       "      <td>0</td>\n",
       "      <td>69</td>\n",
       "      <td>2</td>\n",
       "      <td>81</td>\n",
       "    </tr>\n",
       "    <tr>\n",
       "      <th>3</th>\n",
       "      <td>5</td>\n",
       "      <td>162</td>\n",
       "      <td>0</td>\n",
       "      <td>80</td>\n",
       "      <td>6</td>\n",
       "      <td>69</td>\n",
       "    </tr>\n",
       "    <tr>\n",
       "      <th>4</th>\n",
       "      <td>2</td>\n",
       "      <td>192</td>\n",
       "      <td>1</td>\n",
       "      <td>87</td>\n",
       "      <td>3</td>\n",
       "      <td>67</td>\n",
       "    </tr>\n",
       "  </tbody>\n",
       "</table>\n",
       "</div>"
      ],
      "text/plain": [
       "   Ambient Temperature( deg C)  Calibration(days)  \\\n",
       "0                           -2                226   \n",
       "1                            4                134   \n",
       "2                            7                163   \n",
       "3                            5                162   \n",
       "4                            2                192   \n",
       "\n",
       "   Unwanted substance deposition(0/1)  Humidity(%)  H2S Content(ppm)  \\\n",
       "0                                   1           96                 9   \n",
       "1                                   1           83                 4   \n",
       "2                                   0           69                 2   \n",
       "3                                   0           80                 6   \n",
       "4                                   1           87                 3   \n",
       "\n",
       "   detected by(% of sensors)  \n",
       "0                         21  \n",
       "1                         77  \n",
       "2                         81  \n",
       "3                         69  \n",
       "4                         67  "
      ]
     },
     "execution_count": 31,
     "metadata": {},
     "output_type": "execute_result"
    }
   ],
   "source": [
    "x.head()"
   ]
  },
  {
   "cell_type": "code",
   "execution_count": 32,
   "metadata": {},
   "outputs": [
    {
     "data": {
      "text/plain": [
       "Index(['Ambient Temperature( deg C)', 'Calibration(days)',\n",
       "       'Unwanted substance deposition(0/1)', 'Humidity(%)', 'H2S Content(ppm)',\n",
       "       'detected by(% of sensors)'],\n",
       "      dtype='object')"
      ]
     },
     "execution_count": 32,
     "metadata": {},
     "output_type": "execute_result"
    }
   ],
   "source": [
    "x.columns"
   ]
  },
  {
   "cell_type": "code",
   "execution_count": 18,
   "metadata": {},
   "outputs": [],
   "source": [
    "##y = df.iloc[:,7:]"
   ]
  },
  {
   "cell_type": "code",
   "execution_count": 20,
   "metadata": {},
   "outputs": [],
   "source": [
    "y = df[\"Spuriosity Index(0/1)\"]"
   ]
  },
  {
   "cell_type": "code",
   "execution_count": 21,
   "metadata": {},
   "outputs": [
    {
     "data": {
      "text/plain": [
       "0    1\n",
       "1    0\n",
       "2    0\n",
       "3    0\n",
       "4    0\n",
       "Name: Spuriosity Index(0/1), dtype: int64"
      ]
     },
     "execution_count": 21,
     "metadata": {},
     "output_type": "execute_result"
    }
   ],
   "source": [
    "y.head()"
   ]
  },
  {
   "cell_type": "code",
   "execution_count": 22,
   "metadata": {},
   "outputs": [],
   "source": [
    "from sklearn.naive_bayes import GaussianNB"
   ]
  },
  {
   "cell_type": "code",
   "execution_count": 23,
   "metadata": {},
   "outputs": [],
   "source": [
    "nb = GaussianNB()"
   ]
  },
  {
   "cell_type": "markdown",
   "metadata": {},
   "source": [
    "When we have only file and in that we have to decide the test and train data at that time e use model_selection and import train_test_split method,but if we get data in two separate sheets at that time we directly pass the data in fit to train the machine.\n",
    "\n",
    "\n",
    "\n",
    "from sklearn.model_selection import train_test_split"
   ]
  },
  {
   "cell_type": "code",
   "execution_count": 25,
   "metadata": {},
   "outputs": [
    {
     "data": {
      "text/plain": [
       "GaussianNB(priors=None, var_smoothing=1e-09)"
      ]
     },
     "execution_count": 25,
     "metadata": {},
     "output_type": "execute_result"
    }
   ],
   "source": [
    "nb.fit(x,y)"
   ]
  },
  {
   "cell_type": "code",
   "execution_count": 26,
   "metadata": {},
   "outputs": [
    {
     "data": {
      "text/plain": [
       "'C:\\\\Users\\\\admin\\\\Desktop\\\\Az\\\\projectdocument'"
      ]
     },
     "execution_count": 26,
     "metadata": {},
     "output_type": "execute_result"
    }
   ],
   "source": [
    "pwd"
   ]
  },
  {
   "cell_type": "markdown",
   "metadata": {},
   "source": [
    "This all files are avilable at session level as soon as we close the session we have to again load the daya for x and y and train the machine.Therfore it is difficult to train the model again and again.\n",
    "ex- whenever you want to make call ,you can directly call by calling button,but it ould be like you have to many steps and then u get to call it ould be very difficult and therfore it becomes inconvient and therfore we need to make convinent to the user.Therfore i will keep the data in disc and store it and whenever data is needed i will call the file(user required format) where i will create pickle file whicch can be used for future predication."
   ]
  }
 ],
 "metadata": {
  "kernelspec": {
   "display_name": "Python 3",
   "language": "python",
   "name": "python3"
  },
  "language_info": {
   "codemirror_mode": {
    "name": "ipython",
    "version": 3
   },
   "file_extension": ".py",
   "mimetype": "text/x-python",
   "name": "python",
   "nbconvert_exporter": "python",
   "pygments_lexer": "ipython3",
   "version": "3.7.3"
  }
 },
 "nbformat": 4,
 "nbformat_minor": 2
}
